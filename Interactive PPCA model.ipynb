{
 "cells": [
  {
   "cell_type": "markdown",
   "metadata": {},
   "source": [
    "### Interactive notebook to demo the interactive PPCA model"
   ]
  },
  {
   "cell_type": "code",
   "execution_count": 44,
   "metadata": {},
   "outputs": [
    {
     "name": "stdout",
     "output_type": "stream",
     "text": [
      "The autoreload extension is already loaded. To reload it, use:\n",
      "  %reload_ext autoreload\n"
     ]
    }
   ],
   "source": [
    "%matplotlib inline\n",
    "%load_ext autoreload\n",
    "%autoreload 2\n",
    "\n",
    "import torch\n",
    "import numpy as np\n",
    "# from scipy.stats import invgamma, lognorm\n",
    "from matplotlib import pyplot as plt\n",
    "from matplotlib import collections  as mc\n",
    "import seaborn as sns\n",
    "\n",
    "import warnings\n",
    "with warnings.catch_warnings():\n",
    "    warnings.filterwarnings(\"ignore\",category=DeprecationWarning)\n",
    "\n",
    "from IPython.display import display, clear_output\n",
    "from ipywidgets import Output, VBox, HBox, Layout\n",
    "from ipywidgets import Label, Button, FloatSlider, RadioButtons\n",
    "from ipywidgets import interact\n",
    "\n",
    "from bqplot import (\n",
    "    Axis, ColorAxis, LinearScale, LogScale, DateColorScale, OrdinalScale,\n",
    "    OrdinalColorScale, ColorScale, Scatter, Lines, Figure, Tooltip\n",
    ")\n",
    "\n",
    "from ppca_model import MAP, generate\n",
    "from common.dataset import dataset\n",
    "import common.plot.simple_plot\n",
    "from common.plot.simple_plot import SimpleFigure\n",
    "from common.plot.scatter import imscatter, ellipse_scatter\n",
    "from common.metric.dr_metrics import DRMetric\n",
    "\n",
    "dataset.set_data_home('./data')"
   ]
  },
  {
   "cell_type": "code",
   "execution_count": 61,
   "metadata": {},
   "outputs": [],
   "source": [
    "X_original, X, y = dataset.load_dataset('FASHION200', preprocessing_method='standardize')\n",
    "\n",
    "learning_rate = 0.2\n",
    "n_iters = 250\n",
    "\n",
    "# # try to remove the 'bad' class\n",
    "# bad_class = 9\n",
    "# mask = ~(y==bad_class)\n",
    "\n",
    "# X_original = X_original[mask]\n",
    "# X = X[mask]\n",
    "# y = y[mask]"
   ]
  },
  {
   "cell_type": "code",
   "execution_count": 108,
   "metadata": {
    "scrolled": true
   },
   "outputs": [
    {
     "name": "stderr",
     "output_type": "stream",
     "text": [
      "100%|██████████| 250/250 [00:02<00:00, 109.55it/s]\n"
     ]
    }
   ],
   "source": [
    "# run model the first time to have an init embdedding\n",
    "losses, z2d_loc, z2d_scale, W, sigma = MAP(X, learning_rate, n_iters)\n",
    "\n",
    "errors = np.linalg.norm(z2d_scale, axis=1)\n",
    "avg_err, min_err, max_err  = errors.mean(), errors.min(), errors.max()\n",
    "auc_rnx = DRMetric(X, z2d_loc).auc_rnx()\n",
    "\n",
    "# global interactive data, let's call it 'state'\n",
    "state = {\n",
    "    'moved_points': {}, # reset moved points\n",
    "    'debug_msg': 'Init state',\n",
    "    'losses': losses,\n",
    "    'z2d_loc': z2d_loc,\n",
    "    'z2d_scale': z2d_scale,\n",
    "    'errors': errors,\n",
    "    'avg_err': avg_err,\n",
    "    'min_err': min_err,\n",
    "    'max_err': max_err,\n",
    "    'auc_rnx': auc_rnx,\n",
    "    'looking_id': -1, # id of point under mouse cursor\n",
    "    'filter_mode': 'upper', # filter errors values\n",
    "}"
   ]
  },
  {
   "cell_type": "code",
   "execution_count": 63,
   "metadata": {},
   "outputs": [
    {
     "name": "stdout",
     "output_type": "stream",
     "text": [
      "0.104256734 0.3445318\n"
     ]
    }
   ],
   "source": [
    "print(min_err, max_err)"
   ]
  },
  {
   "cell_type": "code",
   "execution_count": 64,
   "metadata": {
    "scrolled": true
   },
   "outputs": [],
   "source": [
    "def show_top_error_class():\n",
    "    from collections import Counter\n",
    "    errors = np.linalg.norm(state['z2d_scale'], axis=1)\n",
    "\n",
    "    K = int(X.shape[0] * 0.1)\n",
    "    labels_map = {0 : 'T-Shirt', 1 : 'Trouser', 2 : 'Pullover', 3 : 'Dress',\n",
    "                  4 : 'Coat', 5 : 'Sandal', 6 : 'Shirt',\n",
    "                  7 : 'Sneaker', 8 : 'Bag', 9 : 'Ankle Boot'}\n",
    "\n",
    "    top_K_ind = np.argpartition(errors, -K)[-K:]\n",
    "    class_top_K = y[top_K_ind]\n",
    "    cnt = Counter(class_top_K)\n",
    "    count_top_K = []\n",
    "    lbl_names = []\n",
    "    for i in labels_map:\n",
    "        count_top_K.append(cnt[i])\n",
    "        lbl_names.append(f\"{labels_map[i]} [{i}]\")\n",
    "\n",
    "    ind = list(labels_map.keys())\n",
    "    plt.barh(ind, count_top_K)\n",
    "    plt.yticks(ind, lbl_names)\n",
    "    plt.show()"
   ]
  },
  {
   "cell_type": "code",
   "execution_count": 65,
   "metadata": {},
   "outputs": [
    {
     "data": {
      "image/png": "[encoded data removed]",
      "text/plain": [
       "<Figure size 432x288 with 1 Axes>"
      ]
     },
     "metadata": {
      "needs_background": "light"
     },
     "output_type": "display_data"
    }
   ],
   "source": [
    "show_top_error_class()"
   ]
  },
  {
   "cell_type": "code",
   "execution_count": 66,
   "metadata": {
    "scrolled": false
   },
   "outputs": [
    {
     "data": {
      "text/plain": [
       "[<matplotlib.lines.Line2D at 0x7f6b4c3aa128>]"
      ]
     },
     "execution_count": 66,
     "metadata": {},
     "output_type": "execute_result"
    },
    {
     "data": {
      "image/png": "[encoded data removed]",
      "text/plain": [
       "<Figure size 432x288 with 1 Axes>"
      ]
     },
     "metadata": {
      "needs_background": "light"
     },
     "output_type": "display_data"
    }
   ],
   "source": [
    "plt.semilogy(losses)"
   ]
  },
  {
   "cell_type": "code",
   "execution_count": 67,
   "metadata": {},
   "outputs": [
    {
     "data": {
      "text/plain": [
       "<matplotlib.axes._subplots.AxesSubplot at 0x7f6b4c45e0f0>"
      ]
     },
     "execution_count": 67,
     "metadata": {},
     "output_type": "execute_result"
    },
    {
     "data": {
      "image/png": "[encoded data removed]",
      "text/plain": [
       "<Figure size 432x288 with 1 Axes>"
      ]
     },
     "metadata": {
      "needs_background": "light"
     },
     "output_type": "display_data"
    }
   ],
   "source": [
    "# plt.hist(errors, bins=20)\n",
    "sns.distplot(errors, bins=20, kde=True, rug=True)"
   ]
  },
  {
   "cell_type": "code",
   "execution_count": 52,
   "metadata": {
    "scrolled": true
   },
   "outputs": [
    {
     "data": {
      "text/plain": [
       "<matplotlib.collections.PathCollection at 0x7f6b540d2e80>"
      ]
     },
     "execution_count": 52,
     "metadata": {},
     "output_type": "execute_result"
    },
    {
     "data": {
      "image/png": "[encoded data removed]",
      "text/plain": [
       "<Figure size 432x288 with 1 Axes>"
      ]
     },
     "metadata": {
      "needs_background": "light"
     },
     "output_type": "display_data"
    }
   ],
   "source": [
    "plt.scatter(\n",
    "    x=z2d_loc[:, 0],\n",
    "    y=z2d_loc[:, 1],\n",
    "    c=y,\n",
    "    s=500*errors,\n",
    "    alpha=0.4\n",
    ")"
   ]
  },
  {
   "cell_type": "code",
   "execution_count": 53,
   "metadata": {},
   "outputs": [],
   "source": [
    "def scatter_with_images(ax, z2d, z2d_scale, original_data, labels_true):\n",
    "    ax.scatter(z2d[:, 0], z2d[:, 1])\n",
    "    imscatter(ax, z2d, data=original_data, zoom=.5, inverse_cmap=True,\n",
    "              custom_cmap=None, labels_true=labels_true)\n",
    "    # ellipse_scatter(ax, z2d, z2d_scale, labels_true)"
   ]
  },
  {
   "cell_type": "code",
   "execution_count": 74,
   "metadata": {},
   "outputs": [],
   "source": [
    "# create base interactive scatter bqplot\n",
    "sc_x = LinearScale()\n",
    "sc_y = LinearScale()\n",
    "sc_c = OrdinalColorScale(colors=[u'#1f77b4', u'#ff7f0e', u'#2ca02c', u'#d62728', u'#9467bd', u'#8c564b', u'#e377c2', u'#7f7f7f', u'#bcbd22', u'#17becf'])\n",
    "sc_size = LinearScale(min=0.0, max=0.6) # if not set, it will take range from data\n",
    "\n",
    "def_tt = Tooltip(fields=['index', 'size'], formats=['', '.3f'])\n",
    "\n",
    "scatt = Scatter(\n",
    "    x=[], #z2d_loc[:, 0],\n",
    "    y=[], #z2d_loc[:, 1],\n",
    "    color=y,\n",
    "    size=[], #errors,\n",
    "    default_size=300, # max size of point\n",
    "    # names=np.arange(z2d_loc.shape[0]),\n",
    "    # display_names=False,\n",
    "    default_opacities=[0.4],\n",
    "    scales={'x': sc_x, 'y': sc_y, 'color': sc_c, 'size': sc_size},\n",
    "    enable_move=True,\n",
    "    tooltip=def_tt,\n",
    "    unhovered_style={'opacity': 0.3},\n",
    "    selected=[], # top_K_ind.tolist(),\n",
    "    selected_style={'stroke': 'red','stroke-width':2, 'opacity':1.0},\n",
    ")\n",
    "\n",
    "def reset_scatt():\n",
    "    scatt.x = []\n",
    "    scatt.y = []\n",
    "\n",
    "ax_x = Axis(scale=sc_x, grid_color='#EAECEE', grid_lines='dashed')\n",
    "ax_y = Axis(scale=sc_y, orientation='vertical', grid_color='#EAECEE', grid_lines='dashed')\n",
    "ax_c = ColorAxis(scale=sc_c, orientation='vertical', side='right')\n",
    "\n",
    "fig = Figure(marks=[scatt], axes=[ax_x, ax_y], title='',\n",
    "             fig_margin=dict(top=20, bottom=20, left=20, right=20))\n",
    "fig.background_style = {'fill': 'White'}\n",
    "fig.layout = {'width': '600px', 'height': '530px'}"
   ]
  },
  {
   "cell_type": "code",
   "execution_count": 75,
   "metadata": {},
   "outputs": [],
   "source": [
    "# debug label to show some text\n",
    "lbl = Label(color='green', font_size='18px', value=state['debug_msg'])\n",
    "\n",
    "def drag_handler(scatter, value):\n",
    "    p = value['point']\n",
    "    point_id = int(value['index'])\n",
    "    state['moved_points'][point_id] = [float(p['x']), float(p['y'])] # TODO add sigma_fix value\n",
    "    lbl.value = str(state['moved_points'])\n",
    "\n",
    "def mouse_hover(scatter, value):\n",
    "    state['looking_id'] = int(value['data']['index'])\n",
    "    update_hover_image()\n",
    "    \n",
    "scatt.on_drag_end(drag_handler)\n",
    "scatt.on_hover(mouse_hover)"
   ]
  },
  {
   "cell_type": "code",
   "execution_count": 103,
   "metadata": {},
   "outputs": [],
   "source": [
    "# output widget to hold the static matplotlib plot\n",
    "out = Output(layout={'border': '0px solid black', 'width': '600px', 'display': 'inline-block'})\n",
    "hover_img_out = Output(layout={'border': '0px solid black', 'width': '200px', 'display': 'inline-block'})\n",
    "hist_out = Output(layout={'border': '0px solid black', 'width': '600px', 'display': 'inline-block'})\n",
    "\n",
    "# static matplotlib scatter plot with images\n",
    "_, ax = plt.subplots(1, 1, figsize=(8,8))\n",
    "plt.close()\n",
    "\n",
    "_, ax_hover = plt.subplots(1, 1, figsize=(2,2))\n",
    "plt.close()\n",
    "\n",
    "_, ax_hist = plt.subplots(1, 1, figsize=(6,2))\n",
    "plt.close()"
   ]
  },
  {
   "cell_type": "code",
   "execution_count": 117,
   "metadata": {},
   "outputs": [],
   "source": [
    "threshold_slider = FloatSlider(min=state['min_err'], max=state['max_err'], step=0.005,\n",
    "                               description='Avg variance threshold: ',\n",
    "                               layout=Layout(width='500px'),\n",
    "                               style={'description_width': 'initial', 'align_items':'flex-end'})\n",
    "\n",
    "def update_threshold_slider():\n",
    "    threshold_slider.min = state['min_err']\n",
    "    threshold_slider.max = state['max_err']"
   ]
  },
  {
   "cell_type": "code",
   "execution_count": 118,
   "metadata": {},
   "outputs": [],
   "source": [
    "# define steps to run model and update graphs in an interactive manner\n",
    "# all the data are shared between interactive components via the global state\n",
    "\n",
    "def run_ippca():\n",
    "    moved_points = state['moved_points']\n",
    "    sigma_fix = 1e-4\n",
    "    # print('Run interactive PPCA with moved points: ', moved_points, sigma_fix)\n",
    "    \n",
    "    losses, z2d_loc, z2d_scale, W, sigma = MAP(\n",
    "        X, learning_rate, n_iters,\n",
    "        moved_points=moved_points, sigma_fix=sigma_fix)\n",
    "    \n",
    "    errors = np.linalg.norm(z2d_scale, axis=1)\n",
    "    avg_err, min_err, max_err = errors.mean(), errors.min(), errors.max()\n",
    "    aux_rnx = DRMetric(X, z2d_loc).auc_rnx()\n",
    "    \n",
    "    # update global state, note to change each field of the global state dict\n",
    "    # state['moved_points'] = {} # reset moved points\n",
    "    state['debug_msg'] = 'Init state'\n",
    "    state['losses'] = losses\n",
    "    state['z2d_loc'] = z2d_loc\n",
    "    state['z2d_scale'] = z2d_scale\n",
    "    state['errors'] = errors\n",
    "    state['avg_err'] = avg_err\n",
    "    state['min_err'] = min_err\n",
    "    state['max_err'] = max_err\n",
    "    state['auc_rnx'] = auc_rnx\n",
    "    \n",
    "    \n",
    "def update_static_imscatter():\n",
    "    with out:\n",
    "        ax.clear()\n",
    "        scatter_with_images(ax, state['z2d_loc'], state['z2d_scale'], X_original, y)\n",
    "        ax.set_title(\"avg_err={:.3f}, auc_rnx={:.3f}\".format(state['avg_err'], state['auc_rnx']))\n",
    "        clear_output(wait=True)\n",
    "        display(ax.figure)\n",
    "        plt.close()\n",
    "        \n",
    "\n",
    "def update_scatter_bqplot():\n",
    "    fig.title = \"avg_err={:.3f}, auc_rnx={:.3f}\".format(state['avg_err'], state['auc_rnx'])\n",
    "    scatt.x = state['z2d_loc'][:,0]\n",
    "    scatt.y = state['z2d_loc'][:,1]\n",
    "    scatt.size = state['errors']\n",
    "    scatt.selected = list(state['moved_points'].keys())\n",
    "    \n",
    "    \n",
    "def update_hover_image():\n",
    "    hover_id = state['looking_id']\n",
    "    with hover_img_out:\n",
    "        ax_hover.clear()\n",
    "        ax_hover.imshow(X_original[hover_id].reshape(28,28), cmap='gray_r')\n",
    "        ax_hover.axis('off')\n",
    "        clear_output(wait=True)\n",
    "        display(ax_hover.figure)\n",
    "        plt.close()\n",
    "        \n",
    "        \n",
    "def update_histogram():\n",
    "    with hist_out:\n",
    "        ax_hist.clear()\n",
    "        sns.distplot(state['errors'], ax=ax_hist, bins=20, kde=True, rug=True)\n",
    "        clear_output(wait=True)\n",
    "        display(ax_hist.figure)\n",
    "        plt.close()    "
   ]
  },
  {
   "cell_type": "code",
   "execution_count": 119,
   "metadata": {},
   "outputs": [],
   "source": [
    "def show_avg_error():\n",
    "    moved_ids = list(state['moved_points'].keys())\n",
    "    errors = state['errors']\n",
    "    avg_rest = (errors.sum() - errors[moved_ids].sum()) / (errors.shape[0] - errors[moved_ids].shape[0])\n",
    "    print(f\"AVG error for ALL={errors.mean()}, for REST={avg_rest}\")\n",
    "    \n",
    "\n",
    "def rerun_model(btn):\n",
    "    # print('before moving: '); show_avg_error(); show_top_error_class()\n",
    "    run_ippca()\n",
    "    # print('after moving: '); show_avg_error(); show_top_error_class()\n",
    "    \n",
    "    update_static_imscatter()\n",
    "    update_scatter_bqplot()\n",
    "    update_histogram()\n",
    "    update_threshold_slider()\n",
    "    \n",
    "\n",
    "def reset_gui(_):\n",
    "    reset_scatt()\n",
    "    state['moved_points'] = {}\n",
    "    state['debug_msg'] = 'Reset!'\n",
    "    lbl.value = 'Reset!'\n",
    "    \n",
    "    ax.clear()\n",
    "    ax_hover.clear()\n",
    "    ax_hist.clear()\n",
    "    out.clear_output(wait=True)\n",
    "    hover_img_out.clear_output(wait=True)\n",
    "    hist_out.clear_output(wait=True)\n",
    "    \n",
    "\n",
    "def on_threshold_change(change):\n",
    "    fix_threshold = change['new']\n",
    "    errros = state['errors']\n",
    "    (ok_idx,) = (np.where(errors >= fix_threshold) if state['filter_mode'] == 'upper'\n",
    "                 else np.where(errors <= fix_threshold))\n",
    "    scatt.selected = ok_idx.tolist()\n",
    "    lbl.value = f\"{len(ok_idx)} points affected\"\n",
    "    \n",
    "    \n",
    "def on_radio_filter_change(change):\n",
    "    state['filter_mode'] = change['new']\n",
    "    \n",
    "\n",
    "def set_threshold(_):\n",
    "    ok_idx = scatt.selected\n",
    "    if ok_idx:\n",
    "        ok_points = {idx: [px, py] for idx, [px, py] in zip(ok_idx, state['z2d_loc'][ok_idx].tolist())}\n",
    "        state['moved_points'] = ok_points\n",
    "        lbl.value = f\"{len(ok_points)} points selected\"\n",
    "        \n",
    "\n",
    "# button to run iPPCA\n",
    "btn_run = Button(description='Run', icon='check',  button_style='success') # 'success', 'info', 'warning', 'danger' or ''\n",
    "btn_reset = Button(description='Reset', button_style='warning')\n",
    "btn_set_threshold = Button(description='Set Threshold')\n",
    "radio_filter_mode = RadioButtons(options=['upper', 'lower'], description='Filter:')\n",
    "\n",
    "btn_run.on_click(rerun_model)\n",
    "btn_reset.on_click(reset_gui)\n",
    "btn_set_threshold.on_click(set_threshold)\n",
    "threshold_slider.observe(on_threshold_change, names='value')\n",
    "radio_filter_mode.observe(on_radio_filter_change, names='value')"
   ]
  },
  {
   "cell_type": "code",
   "execution_count": 121,
   "metadata": {
    "scrolled": false
   },
   "outputs": [
    {
     "data": {
      "application/vnd.jupyter.widget-view+json": {
       "model_id": "8b503766a76f4c159e89b1cb6c95430d",
       "version_major": 2,
       "version_minor": 0
      },
      "text/plain": [
       "VBox(children=(HBox(children=(Output(layout=Layout(border='0px solid black', display='inline-block', width='60…"
      ]
     },
     "metadata": {},
     "output_type": "display_data"
    },
    {
     "name": "stderr",
     "output_type": "stream",
     "text": [
      "100%|██████████| 250/250 [00:02<00:00, 106.29it/s]\n"
     ]
    }
   ],
   "source": [
    "# feed init data to scatter bqplot and build static imscatter\n",
    "reset_gui(_)\n",
    "update_scatter_bqplot()\n",
    "update_static_imscatter()\n",
    "update_static_imscatter()\n",
    "update_histogram()\n",
    "\n",
    "# whole layout\n",
    "control_buttons = VBox([btn_set_threshold, btn_reset, btn_run], layout=Layout(margin='60px 10px 10px 10px'))\n",
    "VBox([\n",
    "    HBox([hist_out, hover_img_out, control_buttons]),\n",
    "    HBox([VBox([threshold_slider, lbl]), radio_filter_mode]),\n",
    "    HBox([out,fig]),\n",
    "])"
   ]
  },
  {
   "cell_type": "code",
   "execution_count": null,
   "metadata": {},
   "outputs": [],
   "source": []
  },
  {
   "cell_type": "code",
   "execution_count": null,
   "metadata": {},
   "outputs": [],
   "source": [
    "# linear interpolate error range to bubble size\n",
    "errors_as_size = np.interp(errors,\n",
    "                           [np.min(errors), np.max(errors)],\n",
    "                           [32, 512])\n",
    "\n",
    "def log_interp1d(xx, yy, kind='linear'):\n",
    "    '''https://stackoverflow.com/questions/29346292/logarithmic-interpolation-in-python'''\n",
    "    import scipy as sp\n",
    "    import scipy.interpolate\n",
    "    logx = np.log10(xx)\n",
    "    logy = np.log10(yy)\n",
    "    lin_interp = sp.interpolate.interp1d(logx, logy, kind=kind)\n",
    "    log_interp = lambda zz: np.power(10.0, lin_interp(np.log10(zz)))\n",
    "    return log_interp\n",
    "\n",
    "# interpolate errors in log scale\n",
    "errors_as_size = log_interp1d(\n",
    "    [np.min(errors), np.max(errors)],\n",
    "    [32, 512]\n",
    ")(errors)"
   ]
  }
 ],
 "metadata": {
  "kernelspec": {
   "display_name": "Python 3",
   "language": "python",
   "name": "python3"
  },
  "language_info": {
   "codemirror_mode": {
    "name": "ipython",
    "version": 3
   },
   "file_extension": ".py",
   "mimetype": "text/x-python",
   "name": "python",
   "nbconvert_exporter": "python",
   "pygments_lexer": "ipython3",
   "version": "3.6.6"
  }
 },
 "nbformat": 4,
 "nbformat_minor": 2
}
